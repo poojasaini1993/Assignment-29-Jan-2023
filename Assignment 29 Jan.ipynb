{
 "cells": [
  {
   "cell_type": "code",
   "execution_count": 23,
   "id": "1ff2d4c0-2402-412b-b3fd-04a05e6f4152",
   "metadata": {},
   "outputs": [],
   "source": [
    "##1 who developed python programming language?\n",
    "##ans-Guido van Rossum "
   ]
  },
  {
   "cell_type": "code",
   "execution_count": 24,
   "id": "dd972306-10d5-48de-815b-adbc5228ce98",
   "metadata": {},
   "outputs": [],
   "source": [
    "##2 which type of programming does python support?\n",
    "## ans- a)object-oriented programming b) structured programming c) functional programming"
   ]
  },
  {
   "cell_type": "code",
   "execution_count": 25,
   "id": "7ebc7182-7346-484f-a6eb-36f1537c2f1b",
   "metadata": {},
   "outputs": [],
   "source": [
    "##3 Is Python case sensitive when dealing with identifiers?\n",
    "## ans- yes,Python is a case−sensitive programming language. This means that it considers uppercase and lowercase letters differently."
   ]
  },
  {
   "cell_type": "code",
   "execution_count": 26,
   "id": "b167b82a-f9d3-4ee3-9230-4c7ef06f100f",
   "metadata": {},
   "outputs": [],
   "source": [
    "##4- What  is the correct extension of the Python file?\n",
    "##ans-  ‘.py’ is the correct extension of the Python file."
   ]
  },
  {
   "cell_type": "code",
   "execution_count": 27,
   "id": "eda5fc42-617b-43df-8d19-fa113f825c4f",
   "metadata": {},
   "outputs": [],
   "source": [
    "##5- Is Python code compiled or interpreted?\n",
    "##ans- yes, it is complied or interpreted."
   ]
  },
  {
   "cell_type": "code",
   "execution_count": 28,
   "id": "ace5d5c0-74b1-4b37-9b26-ad399efa798b",
   "metadata": {},
   "outputs": [],
   "source": [
    "##6- Name of the few blocks of code used to define in python language?\n",
    "##ans- a module, a function body, and a class definition."
   ]
  },
  {
   "cell_type": "code",
   "execution_count": 29,
   "id": "d38b5f8e-998c-4c84-a093-3cac5b6cc7b3",
   "metadata": {},
   "outputs": [],
   "source": [
    "##7- State a character used to give single line comments in python?\n",
    "##ans- To write single-line comments in Python use the Hash character (#) at the beginning of the line."
   ]
  },
  {
   "cell_type": "code",
   "execution_count": 30,
   "id": "39bb79a8-7dd3-4a83-9fce-6030871ba675",
   "metadata": {},
   "outputs": [],
   "source": [
    "##8- Mention functions can help us to find the version of python that we are currently working on?\n",
    "##ans- The function \"sys.version\" can help us to find the version of python that we are currently working on."
   ]
  },
  {
   "cell_type": "code",
   "execution_count": 31,
   "id": "87e11fd5-728c-44d1-aac8-d52547a17857",
   "metadata": {},
   "outputs": [],
   "source": [
    "##9-Python supports the creation of anonymous functions at runtime, using a construct called----------?\n",
    "##ans- Lambda (Lambda functions are restricted to a single expression. They can be used wherever normal functions can be used)."
   ]
  },
  {
   "cell_type": "code",
   "execution_count": 32,
   "id": "e3e18ed6-1e04-47bb-ae94-a0011fa86ecd",
   "metadata": {},
   "outputs": [],
   "source": [
    "##10- What does pip stand for python?\n",
    "##ans- pip is a package manager for python. Which is also called Preferred Installer Program."
   ]
  },
  {
   "cell_type": "code",
   "execution_count": 33,
   "id": "4cc137f9-1ba4-40f7-aad9-504ec1c3053b",
   "metadata": {},
   "outputs": [],
   "source": [
    "##11- Mention a few functions is a built-in function in python?\n",
    "##ans- The print function is a built-in function which prints a value directly to the system output."
   ]
  },
  {
   "cell_type": "code",
   "execution_count": 34,
   "id": "b39e7499-89fd-47b4-8787-a0d8019683be",
   "metadata": {},
   "outputs": [],
   "source": [
    "##12-what is the maximum possible length of an identifier in python?\n",
    "## 79 Character( Identifiers can be of any length.)"
   ]
  },
  {
   "cell_type": "code",
   "execution_count": 35,
   "id": "376f0680-db68-403b-bfd1-61d3aad87645",
   "metadata": {},
   "outputs": [],
   "source": [
    "##13- What are the benefits of using python?\n",
    "##ans 1.Easy-to-learn and Easy-to-use 2. Improves Productivity 3. Interpreted Language 4. Easily Portable 5. Open Source"
   ]
  },
  {
   "cell_type": "code",
   "execution_count": 36,
   "id": "aa1d996f-3106-48e8-9e76-b0f9224f190c",
   "metadata": {},
   "outputs": [],
   "source": [
    "##14- how memory is managed in python?\n",
    "##ans- Memory management in Python involves a private heap containing all Python objects and data structures. The management of this private heap is ensured internally by the Python memory manager."
   ]
  },
  {
   "cell_type": "code",
   "execution_count": 37,
   "id": "dbb71481-fe43-4085-ace0-55f6acc17f76",
   "metadata": {},
   "outputs": [],
   "source": [
    "##16- is indentation required in python?\n",
    "##ans-Indentation is mandatory in python to define the blocks of statements. It is preferred to use whitespaces instead of tabs to indent in python."
   ]
  }
 ],
 "metadata": {
  "kernelspec": {
   "display_name": "Python 3 (ipykernel)",
   "language": "python",
   "name": "python3"
  },
  "language_info": {
   "codemirror_mode": {
    "name": "ipython",
    "version": 3
   },
   "file_extension": ".py",
   "mimetype": "text/x-python",
   "name": "python",
   "nbconvert_exporter": "python",
   "pygments_lexer": "ipython3",
   "version": "3.10.8"
  }
 },
 "nbformat": 4,
 "nbformat_minor": 5
}
